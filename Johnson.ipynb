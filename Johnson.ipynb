{
  "nbformat": 4,
  "nbformat_minor": 0,
  "metadata": {
    "colab": {
      "provenance": [],
      "authorship_tag": "ABX9TyMagDCMxVX5fmXxM8qIp1GA",
      "include_colab_link": true
    },
    "kernelspec": {
      "name": "python3",
      "display_name": "Python 3"
    },
    "language_info": {
      "name": "python"
    }
  },
  "cells": [
    {
      "cell_type": "markdown",
      "metadata": {
        "id": "view-in-github",
        "colab_type": "text"
      },
      "source": [
        "<a href=\"https://colab.research.google.com/github/newmantic/Johnson/blob/main/Johnson.ipynb\" target=\"_parent\"><img src=\"https://colab.research.google.com/assets/colab-badge.svg\" alt=\"Open In Colab\"/></a>"
      ]
    },
    {
      "cell_type": "code",
      "execution_count": 3,
      "metadata": {
        "id": "yOT8-8bskqFy"
      },
      "outputs": [],
      "source": [
        "import heapq\n",
        "from collections import defaultdict\n",
        "\n",
        "class JohnsonAlgorithm:\n",
        "    def __init__(self, graph):\n",
        "        \"\"\"\n",
        "        Initialize the Johnson's Algorithm.\n",
        "        :param graph: A dictionary where the keys are nodes and the values are dictionaries\n",
        "                      of neighbors with the weight of the edge as the value.\n",
        "                      For example: {0: {1: 3, 2: 8}, 1: {2: 2, 3: -4}, ...}\n",
        "        \"\"\"\n",
        "        self.graph = graph\n",
        "        self.V = len(graph)\n",
        "        self.distances = {}\n",
        "        self.modified_graph = defaultdict(dict)\n",
        "\n",
        "    def bellman_ford(self, source):\n",
        "        \"\"\"\n",
        "        Bellman-Ford algorithm to detect negative weight cycles and calculate shortest paths.\n",
        "        :param source: The source vertex.\n",
        "        :return: A list of distances from the source to all vertices or False if a negative cycle is detected.\n",
        "        \"\"\"\n",
        "        dist = {v: float('inf') for v in range(self.V + 1)}\n",
        "        dist[source] = 0\n",
        "\n",
        "        for _ in range(self.V):\n",
        "            for u in self.graph:\n",
        "                for v in self.graph[u]:\n",
        "                    if dist[u] + self.graph[u][v] < dist[v]:\n",
        "                        dist[v] = dist[u] + self.graph[u][v]\n",
        "\n",
        "        # Check for negative weight cycles\n",
        "        for u in self.graph:\n",
        "            for v in self.graph[u]:\n",
        "                if dist[u] + self.graph[u][v] < dist[v]:\n",
        "                    return False  # Negative weight cycle detected\n",
        "\n",
        "        return dist\n",
        "\n",
        "    def dijkstra(self, source):\n",
        "        \"\"\"\n",
        "        Dijkstra's algorithm to find the shortest paths from the source to all vertices.\n",
        "        :param source: The source vertex.\n",
        "        :return: A dictionary of shortest paths from the source to all vertices.\n",
        "        \"\"\"\n",
        "        dist = {v: float('inf') for v in range(self.V)}\n",
        "        dist[source] = 0\n",
        "        priority_queue = [(0, source)]\n",
        "\n",
        "        while priority_queue:\n",
        "            current_dist, u = heapq.heappop(priority_queue)\n",
        "\n",
        "            if current_dist > dist[u]:\n",
        "                continue\n",
        "\n",
        "            for v in self.modified_graph[u]:\n",
        "                alt = dist[u] + self.modified_graph[u][v]\n",
        "                if alt < dist[v]:\n",
        "                    dist[v] = alt\n",
        "                    heapq.heappush(priority_queue, (alt, v))\n",
        "\n",
        "        return dist\n",
        "\n",
        "    def johnson(self):\n",
        "        \"\"\"\n",
        "        Johnson's algorithm to find all-pairs shortest paths in a sparse graph with possible negative weights.\n",
        "        :return: A dictionary of dictionaries where the keys are vertex pairs and the values are the shortest path distances.\n",
        "        \"\"\"\n",
        "        # Add a new vertex s and connect it to all vertices with edge weight 0\n",
        "        self.graph[self.V] = {v: 0 for v in range(self.V)}\n",
        "\n",
        "        # Step 1: Run Bellman-Ford from the new vertex to find potential function h(v)\n",
        "        h = self.bellman_ford(self.V)\n",
        "        if h is False:\n",
        "            return \"Negative weight cycle detected\"\n",
        "\n",
        "        # Step 2: Reweight all edges to eliminate negative weights\n",
        "        for u in self.graph:\n",
        "            for v in self.graph[u]:\n",
        "                if u != self.V:\n",
        "                    self.modified_graph[u][v] = self.graph[u][v] + h[u] - h[v]\n",
        "\n",
        "        # Step 3: Run Dijkstra for each vertex\n",
        "        for u in range(self.V):\n",
        "            self.distances[u] = self.dijkstra(u)\n",
        "\n",
        "        # Step 4: Restore original edge weights\n",
        "        for u in self.distances:\n",
        "            for v in self.distances[u]:\n",
        "                if self.distances[u][v] != float('inf'):\n",
        "                    self.distances[u][v] = self.distances[u][v] - h[u] + h[v]\n",
        "\n",
        "        return self.distances\n",
        "\n",
        "\n"
      ]
    },
    {
      "cell_type": "code",
      "source": [
        "def test_case_1():\n",
        "    graph = {\n",
        "        0: {1: 4, 2: 8},\n",
        "        1: {2: -2, 3: 5},\n",
        "        2: {3: 3},\n",
        "        3: {}\n",
        "    }\n",
        "    ja = JohnsonAlgorithm(graph)\n",
        "    all_pairs_shortest_paths = ja.johnson()\n",
        "    print(\"All-Pairs Shortest Paths:\")\n",
        "    for u in all_pairs_shortest_paths:\n",
        "        for v in all_pairs_shortest_paths[u]:\n",
        "            print(f\"Shortest path from {u} to {v}: {all_pairs_shortest_paths[u][v]}\")\n",
        "\n",
        "test_case_1()"
      ],
      "metadata": {
        "colab": {
          "base_uri": "https://localhost:8080/"
        },
        "id": "rhNuNP5Tk7uv",
        "outputId": "0ae73b32-b492-41b8-97d1-19deae61f7da"
      },
      "execution_count": 4,
      "outputs": [
        {
          "output_type": "stream",
          "name": "stdout",
          "text": [
            "All-Pairs Shortest Paths:\n",
            "Shortest path from 0 to 0: 0\n",
            "Shortest path from 0 to 1: 4\n",
            "Shortest path from 0 to 2: 2\n",
            "Shortest path from 0 to 3: 5\n",
            "Shortest path from 1 to 0: inf\n",
            "Shortest path from 1 to 1: 0\n",
            "Shortest path from 1 to 2: -2\n",
            "Shortest path from 1 to 3: 1\n",
            "Shortest path from 2 to 0: inf\n",
            "Shortest path from 2 to 1: inf\n",
            "Shortest path from 2 to 2: 0\n",
            "Shortest path from 2 to 3: 3\n",
            "Shortest path from 3 to 0: inf\n",
            "Shortest path from 3 to 1: inf\n",
            "Shortest path from 3 to 2: inf\n",
            "Shortest path from 3 to 3: 0\n"
          ]
        }
      ]
    },
    {
      "cell_type": "code",
      "source": [
        "def test_case_2():\n",
        "    graph = {\n",
        "        0: {1: 10, 2: 5},\n",
        "        1: {2: 2, 3: 1},\n",
        "        2: {1: 3, 3: 9, 4: 2},\n",
        "        3: {4: 4},\n",
        "        4: {3: 6}\n",
        "    }\n",
        "    ja = JohnsonAlgorithm(graph)\n",
        "    all_pairs_shortest_paths = ja.johnson()\n",
        "    print(\"All-Pairs Shortest Paths:\")\n",
        "    for u in all_pairs_shortest_paths:\n",
        "        for v in all_pairs_shortest_paths[u]:\n",
        "            print(f\"Shortest path from {u} to {v}: {all_pairs_shortest_paths[u][v]}\")\n",
        "\n",
        "test_case_2()"
      ],
      "metadata": {
        "colab": {
          "base_uri": "https://localhost:8080/"
        },
        "id": "ZU_j_bRylHGm",
        "outputId": "0c06700c-3b13-4b69-84fb-b5ad3a713573"
      },
      "execution_count": 5,
      "outputs": [
        {
          "output_type": "stream",
          "name": "stdout",
          "text": [
            "All-Pairs Shortest Paths:\n",
            "Shortest path from 0 to 0: 0\n",
            "Shortest path from 0 to 1: 8\n",
            "Shortest path from 0 to 2: 5\n",
            "Shortest path from 0 to 3: 9\n",
            "Shortest path from 0 to 4: 7\n",
            "Shortest path from 1 to 0: inf\n",
            "Shortest path from 1 to 1: 0\n",
            "Shortest path from 1 to 2: 2\n",
            "Shortest path from 1 to 3: 1\n",
            "Shortest path from 1 to 4: 4\n",
            "Shortest path from 2 to 0: inf\n",
            "Shortest path from 2 to 1: 3\n",
            "Shortest path from 2 to 2: 0\n",
            "Shortest path from 2 to 3: 4\n",
            "Shortest path from 2 to 4: 2\n",
            "Shortest path from 3 to 0: inf\n",
            "Shortest path from 3 to 1: inf\n",
            "Shortest path from 3 to 2: inf\n",
            "Shortest path from 3 to 3: 0\n",
            "Shortest path from 3 to 4: 4\n",
            "Shortest path from 4 to 0: inf\n",
            "Shortest path from 4 to 1: inf\n",
            "Shortest path from 4 to 2: inf\n",
            "Shortest path from 4 to 3: 6\n",
            "Shortest path from 4 to 4: 0\n"
          ]
        }
      ]
    },
    {
      "cell_type": "code",
      "source": [
        "def test_case_3():\n",
        "    graph = {\n",
        "        0: {1: 1},\n",
        "        1: {2: 1},\n",
        "        2: {3: 1},\n",
        "        3: {1: -3}\n",
        "    }\n",
        "    ja = JohnsonAlgorithm(graph)\n",
        "    result = ja.johnson()\n",
        "    print(result)  # Expected: \"Negative weight cycle detected\"\n",
        "\n",
        "test_case_3()"
      ],
      "metadata": {
        "colab": {
          "base_uri": "https://localhost:8080/"
        },
        "id": "F_op2plZlJsA",
        "outputId": "78629652-d520-4df4-d10e-65b5808bbcc7"
      },
      "execution_count": 6,
      "outputs": [
        {
          "output_type": "stream",
          "name": "stdout",
          "text": [
            "Negative weight cycle detected\n"
          ]
        }
      ]
    }
  ]
}